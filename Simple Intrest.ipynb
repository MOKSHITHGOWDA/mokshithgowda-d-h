{
 "cells": [
  {
   "cell_type": "code",
   "execution_count": 9,
   "metadata": {},
   "outputs": [
    {
     "name": "stdout",
     "output_type": "stream",
     "text": [
      "Simple Interest\n",
      "\n",
      "Enter value of P: \n",
      "10000\n",
      "Enter value of T: \n",
      "2\n",
      "Enter value of R: \n",
      "1.5\n",
      "simple interest is: 300.0\n"
     ]
    }
   ],
   "source": [
    "print(\"Simple Interest\\n\")\n",
    "P = float(input(\"Enter value of P: \\n\")) \n",
    "T = float(input(\"Enter value of T: \\n\")) \n",
    "R = float(input(\"Enter value of R: \\n\"))\n",
    "SI=P*T*R/100\n",
    "print(\"simple interest is:\",SI)"
   ]
  },
  {
   "cell_type": "code",
   "execution_count": null,
   "metadata": {},
   "outputs": [],
   "source": []
  },
  {
   "cell_type": "code",
   "execution_count": null,
   "metadata": {},
   "outputs": [],
   "source": []
  }
 ],
 "metadata": {
  "kernelspec": {
   "display_name": "Python 3",
   "language": "python",
   "name": "python3"
  },
  "language_info": {
   "codemirror_mode": {
    "name": "ipython",
    "version": 3
   },
   "file_extension": ".py",
   "mimetype": "text/x-python",
   "name": "python",
   "nbconvert_exporter": "python",
   "pygments_lexer": "ipython3",
   "version": "3.7.6"
  }
 },
 "nbformat": 4,
 "nbformat_minor": 4
}
