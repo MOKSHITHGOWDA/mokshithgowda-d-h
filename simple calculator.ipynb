{
 "cells": [
  {
   "cell_type": "code",
   "execution_count": 8,
   "metadata": {},
   "outputs": [
    {
     "name": "stdout",
     "output_type": "stream",
     "text": [
      "Please select operation -\n",
      "1. Add\n",
      "2. Subtract\n",
      "3. Multiply\n",
      "4. Divide\n",
      "5. MOdulus\n",
      "6. Exponent\n",
      "7. Floor division\n",
      "Select operations form 1, 2, 3, 4, 5, 6, 7 :7\n",
      "Enter first number: 16\n",
      "Enter second number: 3\n",
      "16 // 3 = 5\n"
     ]
    }
   ],
   "source": [
    "def add(num1, num2): \n",
    "    return num1 + num2  \n",
    "def subtract(num1, num2): \n",
    "    return num1 - num2 \n",
    "def multiply(num1, num2): \n",
    "    return num1 * num2  \n",
    "def divide(num1, num2): \n",
    "    return num1 / num2  \n",
    "def modulus(num1, num2):\n",
    "    return num1 % num2\n",
    "def exponent(num1, num2):\n",
    "    return num1 ** num2\n",
    "def floor(num1, num2):\n",
    "    return num1 // num2\n",
    "print(\"Please select operation -\\n1. Add\\n2. Subtract\\n3. Multiply\\n4. Divide\\n5. MOdulus\\n6. Exponent\\n7. Floor division\" )   \n",
    "select = int(input(\"Select operations form 1, 2, 3, 4, 5, 6, 7 :\")) \n",
    "number_1 = int(input(\"Enter first number: \")) \n",
    "number_2 = int(input(\"Enter second number: \"))  \n",
    "if select == 1: \n",
    "    print(number_1, \"+\", number_2, \"=\", \n",
    "                    add(number_1, number_2))  \n",
    "elif select == 2: \n",
    "    print(number_1, \"-\", number_2, \"=\", \n",
    "                    subtract(number_1, number_2))  \n",
    "elif select == 3: \n",
    "    print(number_1, \"*\", number_2, \"=\", \n",
    "                    multiply(number_1, number_2)) \n",
    "elif select == 4: \n",
    "    print(number_1, \"/\", number_2, \"=\", \n",
    "                    divide(number_1, number_2)) \n",
    "elif select == 5: \n",
    "    print(number_1, \"%\", number_2, \"=\", \n",
    "                    modulus(number_1, number_2)) \n",
    "elif select == 6: \n",
    "    print(number_1, \"**\", number_2, \"=\", \n",
    "                    exponent(number_1, number_2)) \n",
    "elif select == 7: \n",
    "    print(number_1, \"//\", number_2, \"=\", \n",
    "                    floor(number_1, number_2)) \n",
    "else: \n",
    "    print(\"Invalid input\")"
   ]
  },
  {
   "cell_type": "code",
   "execution_count": null,
   "metadata": {},
   "outputs": [],
   "source": []
  },
  {
   "cell_type": "code",
   "execution_count": null,
   "metadata": {},
   "outputs": [],
   "source": []
  }
 ],
 "metadata": {
  "kernelspec": {
   "display_name": "Python 3",
   "language": "python",
   "name": "python3"
  },
  "language_info": {
   "codemirror_mode": {
    "name": "ipython",
    "version": 3
   },
   "file_extension": ".py",
   "mimetype": "text/x-python",
   "name": "python",
   "nbconvert_exporter": "python",
   "pygments_lexer": "ipython3",
   "version": "3.7.6"
  }
 },
 "nbformat": 4,
 "nbformat_minor": 4
}
