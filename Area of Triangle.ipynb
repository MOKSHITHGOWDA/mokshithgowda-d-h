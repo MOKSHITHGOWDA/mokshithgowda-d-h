{
 "cells": [
  {
   "cell_type": "code",
   "execution_count": 12,
   "metadata": {},
   "outputs": [
    {
     "name": "stdout",
     "output_type": "stream",
     "text": [
      "Enter first side: 2\n",
      "Enter second side: 6\n",
      "Enter third side: 5\n",
      "Area of the triangle is:  4.68\n"
     ]
    }
   ],
   "source": [
    "import math\n",
    "a=int(input(\"Enter first side: \"))\n",
    "b=int(input(\"Enter second side: \"))\n",
    "c=int(input(\"Enter third side: \"))\n",
    "s=(a+b+c)/2\n",
    "area=math.sqrt(s*(s-a)*(s-b)*(s-c))\n",
    "print(\"Area of the triangle is: \",round(area,2))"
   ]
  },
  {
   "cell_type": "code",
   "execution_count": null,
   "metadata": {},
   "outputs": [],
   "source": []
  }
 ],
 "metadata": {
  "kernelspec": {
   "display_name": "Python 3",
   "language": "python",
   "name": "python3"
  },
  "language_info": {
   "codemirror_mode": {
    "name": "ipython",
    "version": 3
   },
   "file_extension": ".py",
   "mimetype": "text/x-python",
   "name": "python",
   "nbconvert_exporter": "python",
   "pygments_lexer": "ipython3",
   "version": "3.7.6"
  }
 },
 "nbformat": 4,
 "nbformat_minor": 4
}
